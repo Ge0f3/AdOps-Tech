{
 "cells": [
  {
   "cell_type": "code",
   "execution_count": null,
   "metadata": {},
   "outputs": [],
   "source": [
    "import os\n",
    "from os import listdir\n",
    "import pandas as pd\n",
    "import numpy as np\n",
    "import tkinter as tk\n",
    "from tkinter import *\n",
    "from tkinter import simpledialog\n",
    "from tkinter import filedialog \n",
    "from tkinter import messagebox \n",
    "\n"
   ]
  },
  {
   "cell_type": "code",
   "execution_count": null,
   "metadata": {},
   "outputs": [],
   "source": [
    "# media_diary= pd.read_excel(r'C:\\Users\\arinc\\Working file\\Input files\\FB_PayPal Consumer T1 Website Retargeting MY Media Diary_R2.xlsx', sheet_name='Clean Version', skiprows=21, usecols=(\"B:Z\"))\n",
    "# media_plan= pd.read_excel(r'C:\\Users\\arinc\\Working file\\Input files\\FB_PayPal Consumer T1 Website Retargeting MY Media Plan_R2.xlsx',skiprows=18, usecols=(\"B:Z\"))\n",
    "# taxonomy= pd.read_excel(r'C:\\Users\\arinc\\Working file\\Input files\\IK_Test_DISPLAY_1.xlsx',skiprows=12, usecols=(\"A:V\"))\n",
    "# input_values=pd.read_excel(r'C:\\Users\\arinc\\Working file\\Validation list.xlsx',sheet_name=\"Sheet1\", usecols=(\"A:AP\"))\n",
    "# diary_plan_info=pd.read_excel(r'C:\\Users\\arinc\\Working file\\Input files\\FB_PayPal Consumer T1 Website Retargeting MY Media Plan_R2.xlsx',sheet_name=\"Clean Version\",header=None, skiprows=2,nrows=8, usecols=(\"B:C\"))"
   ]
  },
  {
   "cell_type": "code",
   "execution_count": null,
   "metadata": {},
   "outputs": [],
   "source": [
    "#Getting the file location using tkinter GUI\n",
    "root = tk.Tk()\n",
    "\n",
    "\n",
    "w = root.winfo_reqwidth()\n",
    "h = root.winfo_reqheight()\n",
    "ws = root.winfo_screenwidth()\n",
    "hs = root.winfo_screenheight()\n",
    "x = (ws/2) - (w/2)\n",
    "y = (hs/2) - (h/2)\n",
    "root.geometry('+%d+%d' % (x, y))\n",
    "\n",
    "def open_file(arg):\n",
    "    if arg == 'Diary':\n",
    "        global media_diary\n",
    "        media_diary =  filedialog.askopenfilename(parent=root,title='Choose a the media Diary File')\n",
    "        messagebox.showinfo('File Uploaded','File successfully Uploaded')\n",
    "        print(\"File Uploaded\")\n",
    "    elif arg == 'Plan':\n",
    "        global media_plan\n",
    "        media_plan =  filedialog.askopenfilename(parent=root,title='Choose a the media Plan File')\n",
    "        messagebox.showinfo('File Uploaded','File successfully Uploaded')\n",
    "        print(\"File Uploaded\")\n",
    "    elif arg == 'tax':\n",
    "        global taxonomy\n",
    "        taxonomy =  filedialog.askopenfilename(parent=root,title='Choose a the taxonomy File')\n",
    "        messagebox.showinfo('File Uploaded','File successfully Uploaded')\n",
    "        print(\"File Uploaded\")\n",
    "    \n",
    "#title \n",
    "title = Label(root, text = \"AdOps\",  \n",
    "      background = 'blue', borderwidth=4,foreground =\"white\",  \n",
    "      font = (\"Times New Roman\", 14))\n",
    "title.pack()\n",
    "btn1 = Button(root, text ='Media Diary', command = lambda:open_file('Diary')) \n",
    "btn2 = Button(root, text ='Media Plan', command = lambda:open_file('Plan')) \n",
    "btn3 = Button(root, text ='Taxonamy', command = lambda:open_file('tax'))\n",
    "btn4 = Button(root, text ='Upload & Exit', command = root.destroy)\n",
    "btn1.pack(side = TOP, pady = 10) \n",
    "btn2.pack(side = TOP, pady = 10) \n",
    "btn3.pack(side = TOP, pady = 10) \n",
    "btn4.pack(side = TOP, pady = 10) \n",
    "  \n",
    "root.mainloop() "
   ]
  },
  {
   "cell_type": "code",
   "execution_count": null,
   "metadata": {},
   "outputs": [],
   "source": [
    "print(media_plan,media_diary,taxonomy)"
   ]
  },
  {
   "cell_type": "code",
   "execution_count": null,
   "metadata": {},
   "outputs": [],
   "source": [
    "path = r\"C:\\Users\\Geoffrey.R\\Documents\\workspace\\Working file\\Input files\"\n",
    "\n",
    "os.chdir(path)\n",
    "for file in listdir(path): #This can be replaced with the list input files from file upload\n",
    "    if 'Media Diary' in file:\n",
    "        #Reading media Diary\n",
    "        MD_xls = pd.ExcelFile(file)\n",
    "        media_diary = MD_xls.parse('Clean Version', skiprows=21, skipcols=1, index_col=None, na_values=['NA'])\n",
    "        print(file)\n",
    "    elif 'Media Plan' in file:\n",
    "        #Reading Media Plan \n",
    "        MP_xls = pd.ExcelFile(file)\n",
    "        media_plan = MP_xls.parse('Clean Version', skiprows=18, skipcols=1, index_col=None, na_values=['NA'])\n",
    "        print(file)\n",
    "    elif('IK_Test_DISPLAY_1') in file:\n",
    "        #Reading taxonamy Document\n",
    "        MP_Tax=pd.ExcelFile(file)\n",
    "        taxonomy = MP_Tax.parse('Facebook _ Instagram_Web_1',skiprows=12,index_col=None,na_values=['NA'])\n",
    "        print(file)\n",
    "\n",
    "\n",
    "input_values=pd.read_excel(r'C:\\Users\\Geoffrey.R\\Documents\\workspace\\Working file\\Validation list.xlsx',sheet_name=\"Sheet1\", usecols=(\"A:AP\"))\n",
    "diary_plan_info=pd.read_excel(r'C:\\Users\\Geoffrey.R\\Documents\\workspace\\Working file\\Input files\\FB_PayPal Consumer T1 Website Retargeting MY Media Plan_R2.xlsx',sheet_name=\"Clean Version\",header=None, skiprows=2,nrows=8, usecols=(\"B:C\"))\n",
    "    "
   ]
  },
  {
   "cell_type": "code",
   "execution_count": null,
   "metadata": {},
   "outputs": [],
   "source": [
    "input_values.head()"
   ]
  },
  {
   "cell_type": "code",
   "execution_count": null,
   "metadata": {},
   "outputs": [],
   "source": [
    "display(taxonomy.head())"
   ]
  },
  {
   "cell_type": "code",
   "execution_count": null,
   "metadata": {},
   "outputs": [],
   "source": [
    "display(media_diary.head())"
   ]
  },
  {
   "cell_type": "code",
   "execution_count": null,
   "metadata": {},
   "outputs": [],
   "source": [
    "display(media_plan.head())"
   ]
  },
  {
   "cell_type": "code",
   "execution_count": null,
   "metadata": {},
   "outputs": [],
   "source": [
    "template = pd.DataFrame(columns=['Campaign ID', 'Campaign Name', 'Campaign Status', 'Special Ad Category', 'Campaign Objective', 'Buying Type', 'Campaign Spend Limit', 'Campaign Daily Budget', 'Campaign Lifetime Budget', 'Campaign Bid Strategy', 'Tags', 'Ad Set ID', 'Ad Set Run Status', 'Ad Set Name', 'Ad Set Time Start', 'Ad Set Time Stop', 'Ad Set Daily Budget', 'Ad Set Lifetime Budget', 'Link Object ID', 'Link', 'Application ID', 'Countries', 'Global Regions', 'Excluded Global Regions', 'Cities', 'Regions', 'Zip', 'Gender', 'Age Min', 'Age Max', 'Education Status', 'College Start Year', 'College End Year', 'Interested In', 'Relationship', 'Connections', 'Excluded Connections', 'Friends of Connections', 'Locales', 'Broad Category Clusters', 'Custom Audiences', 'Excluded Custom Audiences', 'Location Cluster IDs', 'Excluded Location Cluster IDs', 'Publisher Platforms', 'Device Platforms', 'Facebook Positions', 'Instagram Positions', 'Messenger Positions', 'Audience Network Positions', 'Optimization Goal', 'Billing Event', 'Bid Amount', 'Ad Set Bid Strategy', 'Minimum ROAS', 'Ad Set Minimum Spend Limit', 'Ad Set Maximum Spend Limit', 'Large Geo Areas', 'Excluded Large Geo Areas', 'Medium Geo Areas', 'Excluded Medium Geo Areas', 'Small Geo Areas', 'Excluded Small Geo Areas', 'Metro Areas', 'Excluded Metro Areas', 'Subcities', 'Excluded Subcities', 'Neighborhoods', 'Excluded Neighborhoods', 'Subneighborhoods', 'Excluded Subneighborhoods', 'Ad ID', 'Ad Status', 'Ad Name', 'Title', 'Body', 'Link Description', 'Display Link', 'Image Hash', 'Creative Type', 'URL Tags', 'Image', 'Creative Optimization', 'Product 1 - Link', 'Product 1 - Name', 'Product 1 - Description', 'Product 1 - Image Hash', 'Product 2 - Link', 'Product 2 - Name', 'Product 2 - Description', 'Product 2 - Image Hash', 'Product 3 - Link', 'Product 3 - Name', 'Product 3 - Description', 'Product 3 - Image Hash', 'Call to Action', 'Story ID'\n",
    "], index=range(taxonomy.shape[0]))"
   ]
  },
  {
   "cell_type": "code",
   "execution_count": null,
   "metadata": {},
   "outputs": [],
   "source": [
    "template.head(10)"
   ]
  },
  {
   "cell_type": "code",
   "execution_count": null,
   "metadata": {},
   "outputs": [],
   "source": [
    "# Lookup round\n",
    "#Input Classification - Automation \n",
    "num_rows=taxonomy.shape[0]\n",
    "for rows in range(num_rows):\n",
    "    template.iloc[rows,1]=taxonomy.iloc[rows,0]      #Campaign  Name\n",
    "    template.iloc[rows,6]=media_plan.iloc[0,18]      #Campaign Spend Limit\n",
    "    template.iloc[rows,8]=media_plan.iloc[0,18]      #Campaign Lifetime Budget\n",
    "    template.iloc[rows,13]=taxonomy.iloc[rows,1]     #Ad Set Name\n",
    "    template.iloc[rows,14]=diary_plan_info.iloc[4,1] #Ad Set Time Start\n",
    "    template.iloc[rows,15]=diary_plan_info.iloc[5,1] #Ad Set Time Stop\n",
    "    template.iloc[rows,19]=media_diary.iloc[rows,17] #Link\n",
    "    template.iloc[rows,21]=diary_plan_info.iloc[1,1] #Countries\n",
    "    template.iloc[rows,38]=taxonomy.iloc[rows,3]     #Locales\n",
    "    template.iloc[rows,73]=taxonomy.iloc[rows,2]     #Ad Name\n",
    "\n"
   ]
  },
  {
   "cell_type": "code",
   "execution_count": null,
   "metadata": {},
   "outputs": [],
   "source": [
    "#Default\n",
    "#Input Classification - Automation\n",
    "\n",
    "template['Campaign Status'] = 'Paused'\n",
    "template['Ad Set Run Status'] = 'Paused'\n",
    "template['Ad Status'] = 'Paused'\n",
    "\n",
    "#Input classification - Business logic \n",
    "\n",
    "template['Link Object ID'] = \"o:1405303076421245\"\n",
    "\n",
    "#Input Classification - Automated Default value Columns\n",
    "\n",
    "template['Creative Optimization'] = 'No'\n",
    "template['Publisher Platforms'] = 'facebook'\n",
    "template['Billing Event'] = \"Impressions\"\n",
    "template['Frequency Control'] = '1'\n",
    "template['Optimized Conversion Tracking Pixels'] = 'tp:1674696026155243'\n",
    "template['Attribution Spec'] = '[{\"event_type\":\"CLICK_THROUGH\",\"window_days\":7},{\"event_type\":\"VIEW_THROUGH\",\"window_days\":1}]'\n",
    "\n"
   ]
  },
  {
   "cell_type": "code",
   "execution_count": null,
   "metadata": {},
   "outputs": [],
   "source": [
    "##Input Classification - Automated standard input format \n",
    "\n",
    "def standard_input(col):\n",
    "    app_window = tk.Tk()\n",
    "    #Center the dialogue box\n",
    "    \n",
    "    w = app_window.winfo_reqwidth()\n",
    "    h = app_window.winfo_reqheight()\n",
    "    ws = app_window.winfo_screenwidth()\n",
    "    hs = app_window.winfo_screenheight()\n",
    "    x = (ws/2) - (w/2)\n",
    "    y = (hs/2) - (h/2)\n",
    "    app_window.geometry('+%d+%d' % (x, y))\n",
    "    for index,campaign in enumerate(template['Campaign Name']): \n",
    "        template.iloc[index,col] = simpledialog.askstring(\"Input\",\"{} for Campaign Name \\n{}\".format(template.columns[col],campaign),parent=app_window)\n",
    "    app_window.destroy()\n",
    "    \n",
    "\n",
    "#title \n",
    "standard_input(74)\n",
    "\n",
    "#body\n",
    "standard_input(75)\n",
    "\n",
    "#link description\n",
    "standard_input(76)\n",
    "\n",
    "#display Link \n",
    "standard_input(77)\n",
    "\n",
    "#Creative type\n",
    "standard_input(79)\n",
    "\n",
    "##Input Classification - Manual\n",
    "\n",
    "#Age Min \n",
    "standard_input(28)\n",
    "\n",
    "#Age Max\n",
    "standard_input(29)\n",
    "\n",
    "#Custom Audience\n",
    "standard_input(40)\n",
    "\n",
    "#Excluded Custom Audiences\n",
    "standard_input(41)\n",
    "\n",
    "#Call to Action\n",
    "standard_input(95)\n"
   ]
  },
  {
   "cell_type": "code",
   "execution_count": null,
   "metadata": {},
   "outputs": [],
   "source": [
    "# Input via dropdowns\n",
    "from tkinter import filedialog\n",
    "from tkinter import *\n",
    "\n",
    "for col in range(1):\n",
    "    temp_cols=template.columns.get_loc(input_values.columns[col])\n",
    "\n",
    "    l=input_values.iloc[0:,col].dropna().unique()\n",
    "    def submit_entry():\n",
    "        selected = lb.curselection()\n",
    "        if selected: # only do stuff if user made a selection\n",
    "            for index in selected:\n",
    "                template.iloc[0:taxonomy.shape[0],temp_cols]=lb.get(index) # how you get the value of the selection from a listbox\n",
    "        root.destroy\n",
    "\n",
    "    def clear(lb):\n",
    "        lb.select_clear(0, END) # unselect all\n",
    "\n",
    "    root = Tk()\n",
    "\n",
    "    lb = Listbox(root, selectmode=SINGLE) # create Listbox\n",
    "    for n in l: lb.insert(END, n) # put nums 0-4 in listbox\n",
    "    lb.pack() # put listbox on window\n",
    "\n",
    "    # notice no parentheses on the function name doStuff\n",
    "    doStuffBtn = Button(root, text='Submit', command=submit_entry)\n",
    "    doStuffBtn.pack()\n",
    "\n",
    "    # if you need to add parameters to a function call in the button, use lambda like this\n",
    "    clearBtn = Button(root, text='Clear', command=lambda: clear(lb))\n",
    "    clearBtn.pack()\n",
    "\n",
    "    quit_button = Button(root, text=\"Quit\", command=root.destroy)\n",
    "    quit_button.pack()\n",
    "    root.mainloop()"
   ]
  },
  {
   "cell_type": "markdown",
   "metadata": {},
   "source": [
    "# Dialogue Box 2"
   ]
  },
  {
   "cell_type": "code",
   "execution_count": null,
   "metadata": {},
   "outputs": [],
   "source": [
    "# Drop Down box Code\n",
    "from tkinter import *\n",
    "from tkinter import ttk \n",
    "\n",
    "def dialogue_box(columns,txt):\n",
    "    global selection \n",
    "    Root = Tk()\n",
    "    \n",
    "    #Center the dialogue box\n",
    "    \n",
    "    w = Root.winfo_reqwidth()\n",
    "    h = Root.winfo_reqheight()\n",
    "    ws = Root.winfo_screenwidth()\n",
    "    hs = Root.winfo_screenheight()\n",
    "    x = (ws/2) - (w/2)\n",
    "    y = (hs/2) - (h/2)\n",
    "    Root.geometry('+%d+%d' % (x, y))\n",
    "    \n",
    "    # label text for title \n",
    "    title = Label(Root, text = \"Dialogue Box Input\",  \n",
    "          background = 'blue', borderwidth=4,foreground =\"white\",  \n",
    "          font = (\"Times New Roman\", 14))\n",
    "    title.pack()\n",
    "    \n",
    "    text = Label(Root,text=txt,borderwidth=4,relief='flat')\n",
    "    text.pack()\n",
    "    \n",
    "    var = StringVar(Root)\n",
    "    var.set(columns[0]) # initial value\n",
    "    option = ttk.Combobox(Root, textvariable=var, values=columns)\n",
    "    option.pack()\n",
    "    def ok():\n",
    "        selection = var.get()\n",
    "        Root.destroy()\n",
    "    button = Button(Root, text=\"OK\", command=ok)\n",
    "    button.pack()\n",
    "\n",
    "    mainloop()\n",
    "    \n",
    "    \n",
    "    return var.get()\n"
   ]
  },
  {
   "cell_type": "code",
   "execution_count": null,
   "metadata": {},
   "outputs": [],
   "source": [
    "# Input via dropdowns\n",
    "for col in range(8):\n",
    "    temp_cols=template.columns.get_loc(input_values.columns[col])\n",
    "    cols=input_values.iloc[0:,col].dropna().unique()\n",
    "    for index,campaign in enumerate(template['Campaign Name']):\n",
    "        txt=\"{} for Campaign Name \\n{}\".format(template.columns[temp_cols],campaign)\n",
    "        template.iloc[index,temp_cols] = dialogue_box(list(cols),txt)\n",
    "    "
   ]
  },
  {
   "cell_type": "code",
   "execution_count": null,
   "metadata": {},
   "outputs": [],
   "source": [
    "template.to_csv(r'C:\\Users\\Geoffrey.R\\Documents\\workspace\\Working file\\AdOps_Template_demo.csv', index=False)"
   ]
  },
  {
   "cell_type": "code",
   "execution_count": null,
   "metadata": {},
   "outputs": [],
   "source": [
    "#Column values before business logic replacement \n",
    "template['Device Platforms']"
   ]
  },
  {
   "cell_type": "code",
   "execution_count": null,
   "metadata": {},
   "outputs": [],
   "source": [
    "#Business Logic\n",
    "\n",
    "#Device_platform\n",
    "device_platform = pd.read_excel(r'C:\\Users\\Geoffrey.R\\Documents\\workspace\\Working file\\Input files\\Business Logic File v1.2_050420.xlsx',sheet_name=\"Device Platforms\",names = ['values','id','match'],skiprows=1, usecols=(\"A:C\"))\n",
    "device_platform.drop(device_platform.columns[[1]], axis=1, inplace=True)\n",
    "dic=device_platform.set_index('values').T.to_dict('records')[0]\n",
    "\n",
    "#looping over the business logic and making chages \n",
    "for key,value in dic.items():\n",
    "    template['Device Platforms'].replace(key,value,inplace=True)\n",
    "    "
   ]
  },
  {
   "cell_type": "code",
   "execution_count": null,
   "metadata": {},
   "outputs": [],
   "source": [
    "#Column values after business logic replacement \n",
    "template['Device Platforms']"
   ]
  },
  {
   "cell_type": "code",
   "execution_count": 3,
   "metadata": {},
   "outputs": [
    {
     "name": "stdout",
     "output_type": "stream",
     "text": [
      "{'Stories': 'story'}\n"
     ]
    }
   ],
   "source": [
    "#Business Logic\n",
    "\n",
    "#Instagram Position\n",
    "instagram_position = pd.read_excel(r'C:\\Users\\Geoffrey.R\\Documents\\workspace\\Working file\\Input files\\Business Logic File v1.2_050420.xlsx',sheet_name=\"Instagram Position\",names = ['values','id','match'],skiprows=1, usecols=(\"A:C\"))\n",
    "instagram_position.drop(instagram_position.columns[[1]], axis=1, inplace=True)\n",
    "dic=instagram_position.set_index('values').T.to_dict('records')[0]\n",
    "\n",
    "#looping over the business logic and making chages \n",
    "for key,value in dic.items():\n",
    "    template['Instagram Position'].replace(key,value,inplace=True)\n",
    "    "
   ]
  },
  {
   "cell_type": "code",
   "execution_count": 6,
   "metadata": {},
   "outputs": [
    {
     "name": "stdout",
     "output_type": "stream",
     "text": [
      "{'Messenger': 'messenger_home', 'Sponsored Content': 'sponsored_messages'}\n"
     ]
    }
   ],
   "source": [
    "#Business Logic\n",
    "\n",
    "#Instagram Position\n",
    "messenger_position = pd.read_excel(r'C:\\Users\\Geoffrey.R\\Documents\\workspace\\Working file\\Input files\\Business Logic File v1.2_050420.xlsx',sheet_name=\"Messenger Position\",names = ['values','id','match'],skiprows=1, usecols=(\"A:C\"))\n",
    "messenger_position.drop(messenger_position.columns[[1]], axis=1, inplace=True)\n",
    "dic=messenger_position.set_index('values').T.to_dict('records')[0]\n",
    "\n",
    "#looping over the business logic and making chages \n",
    "for key,value in dic.items():\n",
    "    template['Messenger Position'].replace(key,value,inplace=True)\n",
    "    "
   ]
  },
  {
   "cell_type": "code",
   "execution_count": null,
   "metadata": {},
   "outputs": [],
   "source": []
  }
 ],
 "metadata": {
  "kernelspec": {
   "display_name": "Python 3",
   "language": "python",
   "name": "python3"
  },
  "language_info": {
   "codemirror_mode": {
    "name": "ipython",
    "version": 3
   },
   "file_extension": ".py",
   "mimetype": "text/x-python",
   "name": "python",
   "nbconvert_exporter": "python",
   "pygments_lexer": "ipython3",
   "version": "3.7.4"
  }
 },
 "nbformat": 4,
 "nbformat_minor": 2
}
